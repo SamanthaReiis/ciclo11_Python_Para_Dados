{
  "nbformat": 4,
  "nbformat_minor": 0,
  "metadata": {
    "colab": {
      "provenance": []
    },
    "kernelspec": {
      "name": "python3",
      "display_name": "Python 3"
    },
    "language_info": {
      "name": "python"
    }
  },
  "cells": [
    {
      "cell_type": "markdown",
      "source": [
        "# Aula 1: Introdução ao Manuseio de Arquivos em Python"
      ],
      "metadata": {
        "id": "jxZ1zsvEn0iT"
      }
    },
    {
      "cell_type": "markdown",
      "source": [],
      "metadata": {
        "id": "A1GUeum-n6jv"
      }
    },
    {
      "cell_type": "code",
      "execution_count": null,
      "metadata": {
        "id": "119668d8"
      },
      "outputs": [],
      "source": [
        "\n",
        "# Montando o Google Drive\n",
        "from google.colab import drive\n",
        "drive.mount('/content/drive')\n"
      ]
    },
    {
      "cell_type": "markdown",
      "source": [
        "### Leitura de Arquivos de Texto"
      ],
      "metadata": {
        "id": "d5EgEbCboiPP"
      }
    },
    {
      "cell_type": "code",
      "source": [
        "# Abrindo o arquivo no modo de leitura ('r')\n",
        "with open('exemplo.txt', 'r') as arquivo:\n",
        "    # Lendo todo o conteúdo do arquivo\n",
        "    conteudo = arquivo.read()\n",
        "    print(conteudo)"
      ],
      "metadata": {
        "id": "OPK8hJEfoiim"
      },
      "execution_count": null,
      "outputs": []
    },
    {
      "cell_type": "markdown",
      "source": [
        "### Escrita em um arquivo de texto"
      ],
      "metadata": {
        "id": "zWCwfqm-owpr"
      }
    },
    {
      "cell_type": "code",
      "source": [
        "# Abrindo o arquivo no modo de escrita ('w')\n",
        "with open('novo_arquivo.txt', 'w') as arquivo:\n",
        "    # Escrevendo conteúdo no arquivo\n",
        "    arquivo.write('Este é um novo arquivo.\\n')\n",
        "    arquivo.write('Aqui está outra linha de texto.\\n')"
      ],
      "metadata": {
        "id": "LDEm8c4kouyc"
      },
      "execution_count": null,
      "outputs": []
    },
    {
      "cell_type": "markdown",
      "source": [
        "### Adicionando conteúdo a um arquivo existente"
      ],
      "metadata": {
        "id": "8Ua7uKNxo3qO"
      }
    },
    {
      "cell_type": "code",
      "source": [
        "# Abrindo o arquivo no modo de adição ('a')\n",
        "with open('novo_arquivo.txt', 'a') as arquivo:\n",
        "    # Adicionando uma nova linha ao arquivo\n",
        "    arquivo.write('Esta linha foi adicionada ao arquivo.\\n')"
      ],
      "metadata": {
        "id": "GyP5_Y64ouiu"
      },
      "execution_count": null,
      "outputs": []
    },
    {
      "cell_type": "markdown",
      "source": [
        "### Leitura de um arquivo linha por linha"
      ],
      "metadata": {
        "id": "UvEzFFrPo9Vj"
      }
    },
    {
      "cell_type": "code",
      "source": [
        "# Abrindo o arquivo no modo de leitura\n",
        "with open('exemplo.txt', 'r') as arquivo:\n",
        "    # Lendo o arquivo linha por linha\n",
        "    for linha in arquivo:\n",
        "        print(linha.strip())  # O strip() remove espaços em branco extras\n"
      ],
      "metadata": {
        "id": "v5U7MlJAoudf"
      },
      "execution_count": null,
      "outputs": []
    },
    {
      "cell_type": "markdown",
      "source": [
        "### Leitura e Escrita em Modo Binário"
      ],
      "metadata": {
        "id": "x21TGhFgpEgX"
      }
    },
    {
      "cell_type": "code",
      "source": [
        "# Leitura de um arquivo de imagem em modo binário\n",
        "with open('imagem.jpg', 'rb') as arquivo_binario:\n",
        "    conteudo_binario = arquivo_binario.read()\n",
        "    print(conteudo_binario[:10])  # Exibe os primeiros 10 bytes\n",
        "\n"
      ],
      "metadata": {
        "colab": {
          "base_uri": "https://localhost:8080/",
          "height": 211
        },
        "collapsed": true,
        "id": "Wc1PUMI3pIo6",
        "outputId": "4a52fa42-bc82-49c7-82af-78fb15389ce3"
      },
      "execution_count": 1,
      "outputs": [
        {
          "output_type": "error",
          "ename": "FileNotFoundError",
          "evalue": "[Errno 2] No such file or directory: 'imagem.jpg'",
          "traceback": [
            "\u001b[0;31m---------------------------------------------------------------------------\u001b[0m",
            "\u001b[0;31mFileNotFoundError\u001b[0m                         Traceback (most recent call last)",
            "\u001b[0;32m<ipython-input-1-e98071e33235>\u001b[0m in \u001b[0;36m<cell line: 2>\u001b[0;34m()\u001b[0m\n\u001b[1;32m      1\u001b[0m \u001b[0;31m# Leitura de um arquivo de imagem em modo binário\u001b[0m\u001b[0;34m\u001b[0m\u001b[0;34m\u001b[0m\u001b[0m\n\u001b[0;32m----> 2\u001b[0;31m \u001b[0;32mwith\u001b[0m \u001b[0mopen\u001b[0m\u001b[0;34m(\u001b[0m\u001b[0;34m'imagem.jpg'\u001b[0m\u001b[0;34m,\u001b[0m \u001b[0;34m'rb'\u001b[0m\u001b[0;34m)\u001b[0m \u001b[0;32mas\u001b[0m \u001b[0marquivo_binario\u001b[0m\u001b[0;34m:\u001b[0m\u001b[0;34m\u001b[0m\u001b[0;34m\u001b[0m\u001b[0m\n\u001b[0m\u001b[1;32m      3\u001b[0m     \u001b[0mconteudo_binario\u001b[0m \u001b[0;34m=\u001b[0m \u001b[0marquivo_binario\u001b[0m\u001b[0;34m.\u001b[0m\u001b[0mread\u001b[0m\u001b[0;34m(\u001b[0m\u001b[0;34m)\u001b[0m\u001b[0;34m\u001b[0m\u001b[0;34m\u001b[0m\u001b[0m\n\u001b[1;32m      4\u001b[0m     \u001b[0mprint\u001b[0m\u001b[0;34m(\u001b[0m\u001b[0mconteudo_binario\u001b[0m\u001b[0;34m[\u001b[0m\u001b[0;34m:\u001b[0m\u001b[0;36m10\u001b[0m\u001b[0;34m]\u001b[0m\u001b[0;34m)\u001b[0m  \u001b[0;31m# Exibe os primeiros 10 bytes\u001b[0m\u001b[0;34m\u001b[0m\u001b[0;34m\u001b[0m\u001b[0m\n\u001b[1;32m      5\u001b[0m \u001b[0;34m\u001b[0m\u001b[0m\n",
            "\u001b[0;31mFileNotFoundError\u001b[0m: [Errno 2] No such file or directory: 'imagem.jpg'"
          ]
        }
      ]
    },
    {
      "cell_type": "markdown",
      "source": [
        "###  Leitura de grandes arquivos CSV em chunks com Pandas"
      ],
      "metadata": {
        "id": "vXgkrQQypYN2"
      }
    },
    {
      "cell_type": "code",
      "source": [
        "import pandas as pd\n",
        "\n",
        "# Definindo o tamanho do chunk (quantidade de linhas por bloco)\n",
        "chunksize = 100000\n",
        "\n",
        "# Leitura do arquivo CSV em partes menores\n",
        "for chunk in pd.read_csv('grande_arquivo.csv', chunksize=chunksize):\n",
        "    # Processando o chunk (exemplo: calculando a média de uma coluna)\n",
        "    media = chunk['coluna_exemplo'].mean()\n",
        "    print(f\"Média da coluna_exemplo: {media}\")\n"
      ],
      "metadata": {
        "id": "sONahbMIpX_W"
      },
      "execution_count": null,
      "outputs": []
    },
    {
      "cell_type": "markdown",
      "source": [
        "### Escrita de um grande DataFrame em vários arquivos CSV"
      ],
      "metadata": {
        "id": "9-JQjbJ_pXn7"
      }
    },
    {
      "cell_type": "code",
      "source": [
        "import pandas as pd\n",
        "\n",
        "# Criando um grande DataFrame (exemplo)\n",
        "df_grande = pd.DataFrame({\n",
        "    'coluna1': range(1, 100001),\n",
        "    'coluna2': range(100001, 200001)\n",
        "})\n",
        "\n",
        "# Dividindo o DataFrame em partes menores e salvando em múltiplos arquivos\n",
        "chunksize = 20000\n",
        "for i, chunk in enumerate(range(0, len(df_grande), chunksize)):\n",
        "    df_chunk = df_grande.iloc[chunk:chunk + chunksize]\n",
        "    df_chunk.to_csv(f'saida_parte_{i + 1}.csv', index=False)\n",
        "    print(f\"Escrevendo parte {i + 1}\")\n"
      ],
      "metadata": {
        "id": "Dh5THcN7psIj"
      },
      "execution_count": null,
      "outputs": []
    },
    {
      "cell_type": "markdown",
      "source": [
        "###  Leitura e escrita de arquivos Excel com múltiplas planilhas"
      ],
      "metadata": {
        "id": "MGuy5v2hpzsb"
      }
    },
    {
      "cell_type": "code",
      "source": [
        "import pandas as pd\n",
        "\n",
        "# Leitura de um arquivo Excel com várias planilhas\n",
        "arquivo_excel = pd.ExcelFile('exemplo_multiplas_planilhas.xlsx')\n",
        "\n",
        "# Iterando sobre as planilhas e processando cada uma\n",
        "for nome_planilha in arquivo_excel.sheet_names:\n",
        "    df = pd.read_excel(arquivo_excel, sheet_name=nome_planilha)\n",
        "    print(f\"Processando planilha: {nome_planilha}\")\n",
        "    print(df.head())  # Exibe as primeiras linhas de cada planilha\n"
      ],
      "metadata": {
        "id": "YG-Y5uNpp1xC"
      },
      "execution_count": null,
      "outputs": []
    }
  ]
}
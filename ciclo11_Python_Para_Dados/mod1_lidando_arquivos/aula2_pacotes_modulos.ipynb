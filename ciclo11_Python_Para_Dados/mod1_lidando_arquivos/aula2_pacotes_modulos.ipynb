{
  "nbformat": 4,
  "nbformat_minor": 0,
  "metadata": {
    "colab": {
      "provenance": []
    },
    "kernelspec": {
      "name": "python3",
      "display_name": "Python 3"
    },
    "language_info": {
      "name": "python"
    }
  },
  "cells": [
    {
      "cell_type": "markdown",
      "source": [
        "# Aula 2: Explorando Pacotes e Módulos em Python\n",
        "\n"
      ],
      "metadata": {
        "id": "klcdw0nlud5_"
      }
    },
    {
      "cell_type": "code",
      "execution_count": null,
      "metadata": {
        "id": "5m4xT2nauaRw"
      },
      "outputs": [],
      "source": [
        "# Montando o Google Drive\n",
        "from google.colab import drive\n",
        "drive.mount('/content/drive')\n"
      ]
    },
    {
      "cell_type": "markdown",
      "metadata": {
        "id": "96b5886c"
      },
      "source": [
        "##  Módulo Personalizado"
      ]
    },
    {
      "cell_type": "markdown",
      "metadata": {
        "id": "50f442ce"
      },
      "source": [
        "Vamos criar um módulo personalizado `meu_modulo.py` com algumas funções e constantes."
      ]
    },
    {
      "cell_type": "code",
      "execution_count": null,
      "metadata": {
        "id": "aca2feef"
      },
      "outputs": [],
      "source": [
        "\n",
        "# Arquivo: meu_modulo.py\n",
        "\n",
        "def saudacao(nome):\n",
        "    return f\"Olá, {nome}!\"\n",
        "\n",
        "def soma(a, b):\n",
        "    return a + b\n",
        "\n",
        "PI = 3.14159\n"
      ]
    },
    {
      "cell_type": "markdown",
      "metadata": {
        "id": "ba136148"
      },
      "source": [
        "Agora, vamos usar este módulo em outro script."
      ]
    },
    {
      "cell_type": "code",
      "execution_count": null,
      "metadata": {
        "id": "c4365b4e"
      },
      "outputs": [],
      "source": [
        "\n",
        "# Arquivo: main.py\n",
        "\n",
        "import meu_modulo\n",
        "\n",
        "# Usando a função saudacao do módulo\n",
        "print(meu_modulo.saudacao(\"Ana\"))\n",
        "\n",
        "# Usando a função soma do módulo\n",
        "resultado = meu_modulo.soma(5, 7)\n",
        "print(f\"Soma: {resultado}\")\n",
        "\n",
        "# Usando a constante PI do módulo\n",
        "print(f\"O valor de PI é: {meu_modulo.PI}\")\n"
      ]
    },
    {
      "cell_type": "markdown",
      "metadata": {
        "id": "2ebf9aa9"
      },
      "source": [
        "## Pacote Personalizado"
      ]
    },
    {
      "cell_type": "markdown",
      "metadata": {
        "id": "573b4c84"
      },
      "source": [
        "Vamos criar um pacote chamado `meu_pacote` com dois módulos e um arquivo `__init__.py`."
      ]
    },
    {
      "cell_type": "code",
      "execution_count": null,
      "metadata": {
        "id": "fea08fdb"
      },
      "outputs": [],
      "source": [
        "\n",
        "# Arquivo: meu_pacote/modulo1.py\n",
        "\n",
        "def saudacao(nome):\n",
        "    return f\"Olá, {nome}!\"\n"
      ]
    },
    {
      "cell_type": "code",
      "execution_count": null,
      "metadata": {
        "id": "ae41a66d"
      },
      "outputs": [],
      "source": [
        "\n",
        "# Arquivo: meu_pacote/modulo2.py\n",
        "\n",
        "def soma(a, b):\n",
        "    return a + b\n"
      ]
    },
    {
      "cell_type": "code",
      "execution_count": null,
      "metadata": {
        "id": "88645a2b"
      },
      "outputs": [],
      "source": [
        "\n",
        "# Arquivo: meu_pacote/__init__.py\n",
        "\n",
        "from .modulo1 import saudacao\n",
        "from .modulo2 import soma\n"
      ]
    },
    {
      "cell_type": "markdown",
      "metadata": {
        "id": "bbaefc25"
      },
      "source": [
        "Agora, vamos usar o pacote no script principal."
      ]
    },
    {
      "cell_type": "code",
      "execution_count": null,
      "metadata": {
        "id": "87808728"
      },
      "outputs": [],
      "source": [
        "\n",
        "# Arquivo: main.py\n",
        "\n",
        "from meu_pacote import saudacao, soma\n",
        "\n",
        "# Usando a função saudacao\n",
        "print(saudacao(\"Pedro\"))\n",
        "\n",
        "# Usando a função soma\n",
        "resultado = soma(10, 20)\n",
        "print(f\"Soma: {resultado}\")\n"
      ]
    }
  ]
}
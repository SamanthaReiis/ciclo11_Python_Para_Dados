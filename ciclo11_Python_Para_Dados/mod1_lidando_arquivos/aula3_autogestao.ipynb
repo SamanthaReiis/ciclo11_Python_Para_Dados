{
  "nbformat": 4,
  "nbformat_minor": 0,
  "metadata": {
    "colab": {
      "provenance": []
    },
    "kernelspec": {
      "name": "python3",
      "display_name": "Python 3"
    },
    "language_info": {
      "name": "python"
    }
  },
  "cells": [
    {
      "cell_type": "markdown",
      "source": [
        "#Lidando com Arquivos, Pacotes e Módulos"
      ],
      "metadata": {
        "id": "vngntnDQ-YZy"
      }
    },
    {
      "cell_type": "markdown",
      "metadata": {
        "id": "5f000921"
      },
      "source": [
        "## Seção 1: Lidando com Arquivos em Python"
      ]
    },
    {
      "cell_type": "markdown",
      "metadata": {
        "id": "e5ef1bd3"
      },
      "source": [
        "Nesta seção, você encontrará exercícios que ajudarão a praticar o manuseio de arquivos em Python, desde leitura e escrita até manipulações mais avançadas."
      ]
    },
    {
      "cell_type": "markdown",
      "metadata": {
        "id": "18a2f09d"
      },
      "source": [
        "### Exercício 1: Leitura de um arquivo de texto"
      ]
    },
    {
      "cell_type": "markdown",
      "metadata": {
        "id": "9463fe24"
      },
      "source": [
        "Escreva um código que leia o conteúdo do arquivo `exemplo.txt` e exiba seu conteúdo no console."
      ]
    },
    {
      "cell_type": "code",
      "execution_count": null,
      "metadata": {
        "id": "4789cacf"
      },
      "outputs": [],
      "source": [
        "\n",
        "# Código sugerido:\n",
        "# Abra o arquivo 'exemplo.txt' e leia o conteúdo.\n",
        "with open('exemplo.txt', 'r') as file:\n",
        "    conteudo = file.read()\n",
        "    print(conteudo)\n"
      ]
    },
    {
      "cell_type": "markdown",
      "metadata": {
        "id": "d6234c39"
      },
      "source": [
        "### Exercício 2: Escrevendo em um arquivo de texto"
      ]
    },
    {
      "cell_type": "markdown",
      "metadata": {
        "id": "26697b74"
      },
      "source": [
        "Crie um arquivo chamado `saida.txt` e escreva nele o texto 'Hello, World!'."
      ]
    },
    {
      "cell_type": "code",
      "execution_count": null,
      "metadata": {
        "id": "2a6e5a7c"
      },
      "outputs": [],
      "source": [
        "\n",
        "# Código sugerido:\n",
        "# Escreva 'Hello, World!' em um arquivo de saída.\n",
        "with open('saida.txt', 'w') as file:\n",
        "    file.write('Hello, World!')\n"
      ]
    },
    {
      "cell_type": "markdown",
      "metadata": {
        "id": "5711523b"
      },
      "source": [
        "### Exercício 3: Leitura linha por linha de um arquivo"
      ]
    },
    {
      "cell_type": "markdown",
      "metadata": {
        "id": "ae695154"
      },
      "source": [
        "Abra o arquivo `exemplo.txt` e leia-o linha por linha, exibindo cada linha no console."
      ]
    },
    {
      "cell_type": "code",
      "execution_count": null,
      "metadata": {
        "id": "06b91874"
      },
      "outputs": [],
      "source": [
        "\n",
        "# Código sugerido:\n",
        "# Leitura de arquivo linha por linha.\n",
        "with open('exemplo.txt', 'r') as file:\n",
        "    for linha in file:\n",
        "        print(linha.strip())\n"
      ]
    },
    {
      "cell_type": "markdown",
      "metadata": {
        "id": "bcf22901"
      },
      "source": [
        "### Exercício 4: Manipulação de Arquivos CSV"
      ]
    },
    {
      "cell_type": "markdown",
      "metadata": {
        "id": "6713c02c"
      },
      "source": [
        "Usando o Pandas, leia o arquivo `dados.csv` e exiba as primeiras 5 linhas."
      ]
    },
    {
      "cell_type": "code",
      "execution_count": null,
      "metadata": {
        "id": "af2995e5"
      },
      "outputs": [],
      "source": [
        "\n",
        "# Código sugerido:\n",
        "import pandas as pd\n",
        "\n",
        "# Leitura do arquivo CSV\n",
        "df = pd.read_csv('dados.csv')\n",
        "print(df.head())\n"
      ]
    },
    {
      "cell_type": "markdown",
      "metadata": {
        "id": "619be25d"
      },
      "source": [
        "### Exercício 5: Manipulação de Arquivos Binários"
      ]
    },
    {
      "cell_type": "markdown",
      "metadata": {
        "id": "28f3fa08"
      },
      "source": [
        "Escreva um código que copie uma imagem `imagem.jpg` para outro arquivo `imagem_copia.jpg` usando leitura e escrita binária."
      ]
    },
    {
      "cell_type": "code",
      "execution_count": null,
      "metadata": {
        "id": "a179da8a"
      },
      "outputs": [],
      "source": [
        "\n",
        "# Código sugerido:\n",
        "# Leitura e escrita binária\n",
        "with open('imagem.jpg', 'rb') as f_src:\n",
        "    with open('imagem_copia.jpg', 'wb') as f_dest:\n",
        "        f_dest.write(f_src.read())\n"
      ]
    },
    {
      "cell_type": "markdown",
      "metadata": {
        "id": "56cab2d1"
      },
      "source": [
        "## Seção 2: Explorando Pacotes e Módulos em Python"
      ]
    },
    {
      "cell_type": "markdown",
      "metadata": {
        "id": "4e7b6459"
      },
      "source": [
        "Nesta seção, você aprenderá a criar e usar pacotes e módulos personalizados."
      ]
    },
    {
      "cell_type": "markdown",
      "metadata": {
        "id": "aa5571f2"
      },
      "source": [
        "### Exercício 1: Criando um módulo"
      ]
    },
    {
      "cell_type": "markdown",
      "metadata": {
        "id": "2b5a45cf"
      },
      "source": [
        "Crie um módulo chamado `meu_modulo.py` que contenha uma função `saudacao(nome)` que retorne uma saudação para o nome fornecido."
      ]
    },
    {
      "cell_type": "code",
      "execution_count": null,
      "metadata": {
        "id": "e836f06b"
      },
      "outputs": [],
      "source": [
        "\n",
        "# Arquivo: meu_modulo.py\n",
        "\n",
        "def saudacao(nome):\n",
        "    return f\"Olá, {nome}!\"\n"
      ]
    },
    {
      "cell_type": "markdown",
      "metadata": {
        "id": "f534cda1"
      },
      "source": [
        "### Exercício 2: Usando um módulo"
      ]
    },
    {
      "cell_type": "markdown",
      "metadata": {
        "id": "15e7339e"
      },
      "source": [
        "Implemente um programa que importe o módulo `meu_modulo` e use a função `saudacao()` para saudar o usuário 'Ana'."
      ]
    },
    {
      "cell_type": "code",
      "execution_count": null,
      "metadata": {
        "id": "c500c39e"
      },
      "outputs": [],
      "source": [
        "\n",
        "# Arquivo: main.py\n",
        "\n",
        "import meu_modulo\n",
        "\n",
        "print(meu_modulo.saudacao('Ana'))\n"
      ]
    },
    {
      "cell_type": "markdown",
      "metadata": {
        "id": "3b985dd6"
      },
      "source": [
        "### Exercício 3: Criando um pacote"
      ]
    },
    {
      "cell_type": "markdown",
      "metadata": {
        "id": "5f50cf13"
      },
      "source": [
        "Crie um pacote chamado `meu_pacote/` com dois módulos: `modulo1.py` e `modulo2.py`. O primeiro módulo deve conter uma função `saudacao(nome)` e o segundo, uma função `soma(a, b)`."
      ]
    },
    {
      "cell_type": "code",
      "execution_count": null,
      "metadata": {
        "id": "a76955f3"
      },
      "outputs": [],
      "source": [
        "\n",
        "# Arquivo: meu_pacote/modulo1.py\n",
        "\n",
        "def saudacao(nome):\n",
        "    return f\"Olá, {nome}!\"\n"
      ]
    },
    {
      "cell_type": "code",
      "execution_count": null,
      "metadata": {
        "id": "11e2ce0f"
      },
      "outputs": [],
      "source": [
        "\n",
        "# Arquivo: meu_pacote/modulo2.py\n",
        "\n",
        "def soma(a, b):\n",
        "    return a + b\n"
      ]
    },
    {
      "cell_type": "markdown",
      "metadata": {
        "id": "272651fd"
      },
      "source": [
        "### Exercício 4: Usando um pacote"
      ]
    },
    {
      "cell_type": "markdown",
      "metadata": {
        "id": "ecec7ce3"
      },
      "source": [
        "Implemente um programa que importe as funções `saudacao` e `soma` do pacote `meu_pacote` e as utilize."
      ]
    },
    {
      "cell_type": "code",
      "execution_count": null,
      "metadata": {
        "id": "ce2b8f0a"
      },
      "outputs": [],
      "source": [
        "\n",
        "# Arquivo: main.py\n",
        "\n",
        "from meu_pacote.modulo1 import saudacao\n",
        "from meu_pacote.modulo2 import soma\n",
        "\n",
        "print(saudacao('Pedro'))\n",
        "print(soma(10, 5))\n"
      ]
    },
    {
      "cell_type": "markdown",
      "metadata": {
        "id": "e2e28a0c"
      },
      "source": [
        "### Exercício 5: Modificando o arquivo `__init__.py`"
      ]
    },
    {
      "cell_type": "markdown",
      "metadata": {
        "id": "6d9a3516"
      },
      "source": [
        "No pacote `meu_pacote/`, modifique o arquivo `__init__.py` para que você possa importar diretamente `saudacao` e `soma` do pacote principal sem referenciar os módulos."
      ]
    },
    {
      "cell_type": "code",
      "execution_count": null,
      "metadata": {
        "id": "b2aa0b3d"
      },
      "outputs": [],
      "source": [
        "\n",
        "# Arquivo: meu_pacote/__init__.py\n",
        "\n",
        "from .modulo1 import saudacao\n",
        "from .modulo2 import soma\n"
      ]
    },
    {
      "cell_type": "code",
      "execution_count": null,
      "metadata": {
        "id": "VeIcQeeQxmWz"
      },
      "outputs": [],
      "source": []
    }
  ]
}
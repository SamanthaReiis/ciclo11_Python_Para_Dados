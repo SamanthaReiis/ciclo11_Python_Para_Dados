{
  "nbformat": 4,
  "nbformat_minor": 0,
  "metadata": {
    "colab": {
      "provenance": []
    },
    "kernelspec": {
      "name": "python3",
      "display_name": "Python 3"
    },
    "language_info": {
      "name": "python"
    }
  },
  "cells": [
    {
      "cell_type": "code",
      "execution_count": null,
      "metadata": {
        "id": "ZgAtpu34g-Zo"
      },
      "outputs": [],
      "source": []
    },
    {
      "cell_type": "markdown",
      "source": [
        "# Aula 1: Introdução ao Manuseio de Arquivos em Python"
      ],
      "metadata": {
        "id": "jxZ1zsvEn0iT"
      }
    },
    {
      "cell_type": "markdown",
      "source": [],
      "metadata": {
        "id": "A1GUeum-n6jv"
      }
    },
    {
      "cell_type": "code",
      "execution_count": null,
      "metadata": {
        "id": "119668d8",
        "colab": {
          "base_uri": "https://localhost:8080/"
        },
        "collapsed": true,
        "outputId": "f82d580a-352a-4b42-c69e-0180d249d4f5"
      },
      "outputs": [
        {
          "output_type": "stream",
          "name": "stdout",
          "text": [
            "Drive already mounted at /content/drive/; to attempt to forcibly remount, call drive.mount(\"/content/drive/\", force_remount=True).\n"
          ]
        }
      ],
      "source": [
        "# Montando o Google Drive\n",
        "from google.colab import drive\n",
        "drive.mount('/content/drive/')\n"
      ]
    },
    {
      "cell_type": "code",
      "source": [
        "!ls"
      ],
      "metadata": {
        "colab": {
          "base_uri": "https://localhost:8080/"
        },
        "id": "rxhKR9q5AOR2",
        "outputId": "491d99b1-cded-4d15-c4ad-811556410381"
      },
      "execution_count": null,
      "outputs": [
        {
          "output_type": "stream",
          "name": "stdout",
          "text": [
            "MyDrive\n"
          ]
        }
      ]
    },
    {
      "cell_type": "code",
      "source": [
        "# mostra o conteudo do drive\n",
        "!ls /content/drive/MyDrive/\n"
      ],
      "metadata": {
        "colab": {
          "base_uri": "https://localhost:8080/"
        },
        "collapsed": true,
        "id": "ce3h-Z2mye-4",
        "outputId": "8dd68cd3-85ef-4247-d55b-5238514ac3d9"
      },
      "execution_count": 1,
      "outputs": [
        {
          "output_type": "stream",
          "name": "stdout",
          "text": [
            "ls: cannot access '/content/drive/MyDrive/': No such file or directory\n"
          ]
        }
      ]
    },
    {
      "cell_type": "code",
      "source": [
        "# direciona para o caminho desejado\n",
        "%cd /content/drive/MyDrive/nome_pasts/"
      ],
      "metadata": {
        "colab": {
          "base_uri": "https://localhost:8080/"
        },
        "id": "ej-VPka80aXl",
        "outputId": "72d62d53-26ad-437a-e2ea-345d65910bca"
      },
      "execution_count": null,
      "outputs": [
        {
          "output_type": "stream",
          "name": "stdout",
          "text": [
            "/content/drive/MyDrive/ciclo11_Python_Para_Dados/mod1_lidando_arquivos\n"
          ]
        }
      ]
    },
    {
      "cell_type": "code",
      "source": [
        "#Este módulo fornece uma maneira simples de usar funcionalidades que são dependentes de sistema operacional\n",
        "import os\n",
        "\n",
        "# os.getcwd() retorna o caminho absoluto do diretório de trabalho atual\n",
        "print(os.getcwd())\n"
      ],
      "metadata": {
        "colab": {
          "base_uri": "https://localhost:8080/"
        },
        "id": "yb2RpIJAzQCW",
        "outputId": "28234f20-1a73-439f-f3d4-d53bb8b6c140"
      },
      "execution_count": null,
      "outputs": [
        {
          "output_type": "stream",
          "name": "stdout",
          "text": [
            "/content/drive/MyDrive/ciclo11_Python_Para_Dados/mod1_lidando_arquivos\n"
          ]
        }
      ]
    },
    {
      "cell_type": "code",
      "source": [
        "# Mostra o conteudo do local/pasta\n",
        "!ls"
      ],
      "metadata": {
        "colab": {
          "base_uri": "https://localhost:8080/"
        },
        "id": "7G80boUu2ep0",
        "outputId": "f4ebc0ac-8af8-4965-87fd-a8c5ac61c4b3"
      },
      "execution_count": null,
      "outputs": [
        {
          "output_type": "stream",
          "name": "stdout",
          "text": [
            "aula1_manuseio_arquivos.ipynb  aula3_autogestao.ipynb  imagem.jpg\n",
            "aula2_pacotes_modulos.ipynb    exemplo.txt\t       novo_arquivo.txt\n"
          ]
        }
      ]
    }
  ]
}
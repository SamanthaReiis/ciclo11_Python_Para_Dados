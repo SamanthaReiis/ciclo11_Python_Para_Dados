{
  "nbformat": 4,
  "nbformat_minor": 0,
  "metadata": {
    "colab": {
      "provenance": []
    },
    "kernelspec": {
      "name": "python3",
      "display_name": "Python 3"
    },
    "language_info": {
      "name": "python"
    }
  },
  "cells": [
    {
      "cell_type": "markdown",
      "source": [
        "### Preparando o ambiente"
      ],
      "metadata": {
        "id": "6-8PkGZ3ROGE"
      }
    },
    {
      "cell_type": "code",
      "execution_count": 10,
      "metadata": {
        "id": "5m4xT2nauaRw",
        "colab": {
          "base_uri": "https://localhost:8080/"
        },
        "outputId": "4ffa5e04-80a6-4929-c443-118283310a5a"
      },
      "outputs": [
        {
          "output_type": "stream",
          "name": "stdout",
          "text": [
            "Mounted at /content/drive\n"
          ]
        }
      ],
      "source": [
        "# Montando o Google Drive\n",
        "from google.colab import drive\n",
        "drive.mount('/content/drive')\n"
      ]
    },
    {
      "cell_type": "code",
      "source": [
        "%cd /content/drive/MyDrive/nomedapasta"
      ],
      "metadata": {
        "id": "ej-VPka80aXl",
        "collapsed": true
      },
      "execution_count": null,
      "outputs": []
    },
    {
      "cell_type": "code",
      "source": [
        "import os\n",
        "print(os.getcwd())\n"
      ],
      "metadata": {
        "id": "yb2RpIJAzQCW",
        "collapsed": true
      },
      "execution_count": null,
      "outputs": []
    },
    {
      "cell_type": "code",
      "source": [
        "!ls"
      ],
      "metadata": {
        "collapsed": true,
        "id": "KszmEPUC9by7"
      },
      "execution_count": null,
      "outputs": []
    },
    {
      "cell_type": "code",
      "source": [],
      "metadata": {
        "id": "_Qf575xzRUma"
      },
      "execution_count": null,
      "outputs": []
    },
    {
      "cell_type": "code",
      "execution_count": null,
      "metadata": {
        "id": "BNsCr6rYZ5ch"
      },
      "outputs": [],
      "source": []
    },
    {
      "cell_type": "markdown",
      "source": [
        "# INTRODUÇÃO A BANCO DE DADOS\n",
        "\n",
        "Este módulo vai introduzir oS conceito de banco de dados e ensinar como trabalhar com bancos de dados em Python. Vamos utilizar SQLite, um banco de dados relacional leve, além de ferramentas como sqlite3 (uma biblioteca nativa do Python) para criar, manipular e consultar dados.\n",
        "\n"
      ],
      "metadata": {
        "id": "OKhaUukcaAwv"
      }
    },
    {
      "cell_type": "markdown",
      "source": [
        "### Nesta aula vamos abordar:\n",
        "\n",
        "  1. O que é um banco de dados.\n",
        "  2. Diferença entre bancos de dados relacionais e não relacionais.\n",
        "  3. O conceito de SQL (Structured Query Language) e como ele é usado para consultar e manipular dados."
      ],
      "metadata": {
        "id": "JLaVU-yNccfD"
      }
    },
    {
      "cell_type": "markdown",
      "source": [
        "### O que é um banco de dados?\n"
      ],
      "metadata": {
        "id": "-jb2fxfNczQP"
      }
    },
    {
      "cell_type": "markdown",
      "source": [
        "\n",
        "Um banco de dados é uma coleção organizada de dados que podem ser acessados, gerenciados e atualizados de maneira eficiente. Pense nele como um grande \"arquivo digital\" onde você pode armazenar informações importantes para serem consultadas posteriormente.\n",
        "\n",
        "Na vida real, utilizamos bancos de dados o tempo todo, mesmo que não percebamos. Imagine uma biblioteca: os livros são organizados em prateleiras, com seções específicas, facilitando a busca por um determinado título. Da mesma forma, os bancos de dados organizam informações, como registros de clientes, vendas, produtos, ou até o conteúdo de uma rede social, permitindo acesso rápido e preciso.\n"
      ],
      "metadata": {
        "id": "jZLOeGLOhkQE"
      }
    },
    {
      "cell_type": "code",
      "source": [],
      "metadata": {
        "id": "ZOyYv9DZkT6j"
      },
      "execution_count": null,
      "outputs": []
    },
    {
      "cell_type": "code",
      "source": [],
      "metadata": {
        "id": "_9z4Nrmxd9D6"
      },
      "execution_count": null,
      "outputs": []
    },
    {
      "cell_type": "markdown",
      "source": [
        "### Por que Usar Bancos de Dados?\n"
      ],
      "metadata": {
        "id": "xM4Jh6tfdua4"
      }
    },
    {
      "cell_type": "markdown",
      "source": [
        "\n",
        "Ao desenvolver sistemas e aplicativos, precisamos armazenar e acessar dados de forma estruturada e eficiente. Ao invés de guardar tudo em arquivos simples, como planilhas ou documentos de texto, os bancos de dados proporcionam:\n",
        "\n",
        " - Armazenamento Eficiente: Permite organizar grandes quantidades de dados de forma estruturada.\n",
        "\n",
        " - Consulta Rápida: Com o uso de comandos específicos, podemos acessar exatamente o que precisamos sem perder tempo.\n",
        "\n",
        " - Segurança e Integridade: Garantem que os dados sejam protegidos e mantidos consistentes, evitando erros e duplicações."
      ],
      "metadata": {
        "id": "Pvhv-Nf8hm-G"
      }
    },
    {
      "cell_type": "code",
      "source": [],
      "metadata": {
        "id": "3rPokVO_hBdF"
      },
      "execution_count": null,
      "outputs": []
    },
    {
      "cell_type": "markdown",
      "source": [
        "### Tipos de Bancos de Dados\n"
      ],
      "metadata": {
        "id": "vtlvkBWQd-ie"
      }
    },
    {
      "cell_type": "markdown",
      "source": [
        "\n",
        "Existem diferentes tipos de bancos de dados, cada um adequado para cenários específicos:\n",
        "\n",
        "- Bancos de Dados Relacionais (SQL): Organizam os dados em tabelas (linhas e colunas), e cada tabela representa uma entidade (como clientes, produtos, etc.). Eles usam uma linguagem chamada SQL (Structured Query Language) para interagir com os dados. Exemplos: MySQL, PostgreSQL, SQLite.\n",
        "\n",
        "- Bancos de Dados Não-Relacionais (NoSQL): Armazenam dados de maneira mais flexível, sem seguir o formato de tabelas rígidas. São usados para grandes volumes de dados ou dados que mudam frequentemente. Exemplos: MongoDB, Cassandra."
      ],
      "metadata": {
        "id": "SnaHivi6hpk6"
      }
    },
    {
      "cell_type": "code",
      "source": [],
      "metadata": {
        "id": "kW5JFfudgaxq"
      },
      "execution_count": null,
      "outputs": []
    },
    {
      "cell_type": "markdown",
      "source": [
        "### O Poder do SQL\n",
        "\n"
      ],
      "metadata": {
        "id": "arXe59zQeLDx"
      }
    },
    {
      "cell_type": "markdown",
      "source": [
        "SQL (Structured Query Language) é a linguagem usada para gerenciar e manipular dados em bancos de dados relacionais. Ela é composta por comandos que nos permitem criar, ler, atualizar e deletar informações, conhecidos pelo acrônimo CRUD:\n",
        "\n",
        " - Create (Criar): Criar novas tabelas ou registros.\n",
        "\n",
        " - Read (Ler): Consultar dados existentes no banco.\n",
        "\n",
        " - Update (Atualizar): Modificar dados existentes.\n",
        "\n",
        " - Delete (Deletar): Remover dados."
      ],
      "metadata": {
        "id": "Rdar-1PLmHlG"
      }
    },
    {
      "cell_type": "code",
      "source": [],
      "metadata": {
        "id": "vJqnY4OZeY5x"
      },
      "execution_count": null,
      "outputs": []
    },
    {
      "cell_type": "markdown",
      "source": [
        "### GOOGLE BIG QUERY\n",
        "\n",
        "O Google BigQuery é um sistema de armazenamento e análise de dados de grandes volumes, mas é importante notar que BigQuery é um sistema de banco de dados não transacional, ou seja, ele é otimizado para consultas e análises de dados em larga escala, mas não para operações como inserção, atualização ou deleção de registros de forma interativa (como seria com bancos de dados relacionais convencionais como MySQL, PostgreSQL, etc.).\n",
        "\n",
        "Entretanto, podemos adaptar os exemplos de operações CRUD para o contexto do BigQuery, lembrando que inserções e atualizações são menos comuns e que consultas (operações Read) são o foco."
      ],
      "metadata": {
        "id": "erxYPasUgqom"
      }
    },
    {
      "cell_type": "code",
      "source": [],
      "metadata": {
        "id": "Y0WaHPEpgvLf"
      },
      "execution_count": null,
      "outputs": []
    },
    {
      "cell_type": "markdown",
      "source": [
        "### Introdução ao SQLite com Python"
      ],
      "metadata": {
        "id": "Z6Oxkk3ViMjT"
      }
    },
    {
      "cell_type": "markdown",
      "source": [
        "SQLite é um banco de dados relacional que se destaca por sua simplicidade, eficiência e leveza. Diferente de outros sistemas de bancos de dados relacionais (como MySQL, PostgreSQL, etc.), o SQLite não precisa de um servidor de banco de dados separado. Ele armazena todos os dados em um único arquivo de banco de dados, o que o torna ideal para aplicações menores ou quando você precisa de um banco de dados embarcado.\n",
        "\n",
        "O Python oferece suporte nativo para o SQLite por meio do módulo sqlite3, que já vem pré-instalado com o Python. Isso significa que você pode começar a trabalhar com bancos de dados relacionais sem precisar instalar bibliotecas adicionais ou configurar um servidor."
      ],
      "metadata": {
        "id": "08JAdJJOiPOT"
      }
    },
    {
      "cell_type": "markdown",
      "source": [
        "### Por que Usar o SQLite com Python?"
      ],
      "metadata": {
        "id": "_8XN-3j8mbVu"
      }
    },
    {
      "cell_type": "markdown",
      "source": [
        "1. Leve e Simples: O SQLite é um banco de dados \"serverless\", o que significa que ele é armazenado diretamente em um arquivo no disco. Isso torna a configuração extremamente simples.\n",
        "\n",
        "2. Perfeito para Pequenos Projetos: Ideal para prototipagem, testes, ou aplicações pequenas que não precisam de toda a complexidade de um banco de dados completo.\n",
        "\n",
        "3. Pré-instalado com o Python: O módulo sqlite3 já vem com a instalação do Python, então você pode começar a usar imediatamente.\n",
        "\n",
        "4. Compatível com SQL: Ele utiliza a linguagem SQL, assim como outros bancos de dados relacionais, o que torna a transição para bancos de dados maiores mais fácil"
      ],
      "metadata": {
        "id": "VjkiJa2BmePy"
      }
    },
    {
      "cell_type": "code",
      "source": [],
      "metadata": {
        "id": "T4a-NAWaiOvz"
      },
      "execution_count": null,
      "outputs": []
    },
    {
      "cell_type": "markdown",
      "source": [
        "### Como Funciona o SQLite no Python?\n"
      ],
      "metadata": {
        "id": "LNdhJXmMmnNw"
      }
    },
    {
      "cell_type": "markdown",
      "source": [
        "O SQLite utiliza um arquivo para armazenar o banco de dados e, em Python, a interação com o SQLite é feita por meio de quatro etapas simples:\n",
        "\n",
        "1. Conectar ao banco de dados (ou criar um novo arquivo de banco de dados).\n",
        "\n",
        "2. Criar um cursor, que é o responsável por executar comandos SQL.\n",
        "3. Executar comandos SQL, como criar tabelas, inserir, atualizar ou consultar dados.\n",
        "4. Fechar a conexão quando todas as operações forem concluídas."
      ],
      "metadata": {
        "id": "UEghvrwqmySD"
      }
    },
    {
      "cell_type": "code",
      "source": [],
      "metadata": {
        "id": "wIS7fWw1mqGS"
      },
      "execution_count": null,
      "outputs": []
    },
    {
      "cell_type": "markdown",
      "source": [
        "### Exemplo de Uso do SQLite com Python"
      ],
      "metadata": {
        "id": "__HphKD6m5P2"
      }
    },
    {
      "cell_type": "code",
      "source": [
        "import sqlite3\n"
      ],
      "metadata": {
        "id": "PLm52xJGm6TP"
      },
      "execution_count": 2,
      "outputs": []
    },
    {
      "cell_type": "code",
      "source": [
        " #Conectar (ou criar) um banco de dados chamado 'meu_banco.db'\n",
        "conexao = sqlite3.connect('meu_banco.db')"
      ],
      "metadata": {
        "id": "19_OOwMonAzw"
      },
      "execution_count": 4,
      "outputs": []
    },
    {
      "cell_type": "code",
      "source": [
        "# Criar um cursor para executar comandos SQL\n",
        "cursor = conexao.cursor()\n",
        "\n",
        "print(\"Conectado ao banco de dados SQLite.\")"
      ],
      "metadata": {
        "colab": {
          "base_uri": "https://localhost:8080/"
        },
        "id": "a6theC-1pxsV",
        "outputId": "b969e05b-68bd-4368-faf8-7ca4ea452b01"
      },
      "execution_count": 6,
      "outputs": [
        {
          "output_type": "stream",
          "name": "stdout",
          "text": [
            "Conectado ao banco de dados SQLite.\n"
          ]
        }
      ]
    },
    {
      "cell_type": "markdown",
      "source": [
        "2. Criando uma Tabela\n",
        "\n",
        "Agora, vamos criar uma tabela chamada Alunos com as colunas id, nome, idade e nota."
      ],
      "metadata": {
        "id": "pZOkJTBDnFx6"
      }
    },
    {
      "cell_type": "code",
      "source": [
        "# Criar uma tabela chamada \"Alunos\"\n",
        "cursor.execute('''\n",
        "CREATE TABLE IF NOT EXISTS Alunos (\n",
        "    id INTEGER PRIMARY KEY,\n",
        "    nome TEXT,\n",
        "    idade INTEGER,\n",
        "    nota REAL\n",
        ")\n",
        "''')\n",
        "\n",
        "print(\"Tabela 'Alunos' criada com sucesso.\")\n"
      ],
      "metadata": {
        "colab": {
          "base_uri": "https://localhost:8080/"
        },
        "id": "sIuA2RN8nDQe",
        "outputId": "431fcbdf-aa6c-49ea-ee08-cf917266ec12"
      },
      "execution_count": 7,
      "outputs": [
        {
          "output_type": "stream",
          "name": "stdout",
          "text": [
            "Tabela 'Alunos' criada com sucesso.\n"
          ]
        }
      ]
    },
    {
      "cell_type": "code",
      "source": [
        "# Consultar todos os dados da tabela \"Alunos\"\n",
        "cursor.execute(\"SELECT * FROM Alunos\")\n",
        "resultados = cursor.fetchall()\n",
        "\n",
        "# Exibir os dados recuperados\n",
        "for linha in resultados:\n",
        "    print(linha)"
      ],
      "metadata": {
        "id": "p_Ghdt6Dp2Yb"
      },
      "execution_count": 9,
      "outputs": []
    },
    {
      "cell_type": "code",
      "source": [
        "# Fechar a conexão com o banco de dados\n",
        "conexao.close()\n",
        "\n",
        "print(\"Conexão com o banco de dados fechada.\")\n"
      ],
      "metadata": {
        "id": "GS0XrUJ9pq0z"
      },
      "execution_count": null,
      "outputs": []
    }
  ]
}